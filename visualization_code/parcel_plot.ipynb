{
 "cells": [
  {
   "cell_type": "code",
   "execution_count": 1,
   "metadata": {},
   "outputs": [],
   "source": [
    "import os\n",
    "from surfer import Brain, project_volume_data\n",
    "import nibabel as nib\n",
    "import numpy as np\n",
    "import pandas as pd\n",
    "os.chdir('/Users/mengdu/Repos/hierarchy/')"
   ]
  },
  {
   "cell_type": "code",
   "execution_count": 2,
   "metadata": {},
   "outputs": [],
   "source": [
    "nav_p_df = pd.read_csv('nav_delta-sim_ttest.csv', index_col=0)\n",
    "corrected_nav_p = nav_p_df['p_fdr_bh']\n",
    "nav_p = {}\n",
    "nav_p['lh'] = corrected_nav_p.loc[[parcel for parcel in corrected_nav_p.index if '-lh-' in parcel or '-Left-' in parcel]]\n",
    "nav_p['lh'].index = [parcel.split('-')[-1] for parcel in nav_p['lh'].index]\n",
    "nav_p['rh'] = corrected_nav_p.loc[[parcel for parcel in corrected_nav_p.index if '-rh-' in parcel or '-Right-' in parcel]]\n",
    "nav_p['rh'].index = [parcel.split('-')[-1] for parcel in nav_p['rh'].index]\n"
   ]
  },
  {
   "cell_type": "code",
   "execution_count": 4,
   "metadata": {},
   "outputs": [],
   "source": [
    "sac_p_df = pd.read_csv('sac_delta-sim_ttest.csv', index_col=0)\n",
    "corrected_sac_p = sac_p_df['p_fdr_bh']\n",
    "sac_p = {}\n",
    "sac_p['lh'] = corrected_sac_p.loc[[parcel for parcel in corrected_sac_p.index if '-lh-' in parcel or '-Left-' in parcel]]\n",
    "sac_p['lh'].index = [parcel.split('-')[-1] for parcel in sac_p['lh'].index]\n",
    "sac_p['rh'] = corrected_sac_p.loc[[parcel for parcel in corrected_sac_p.index if '-rh-' in parcel or '-Right-' in parcel]]\n",
    "sac_p['rh'].index = [parcel.split('-')[-1] for parcel in sac_p['rh'].index]\n"
   ]
  },
  {
   "cell_type": "code",
   "execution_count": 5,
   "metadata": {},
   "outputs": [
    {
     "name": "stdout",
     "output_type": "stream",
     "text": [
      "unknown\n",
      "bankssts\n",
      "corpuscallosum\n",
      "frontalpole\n",
      "temporalpole\n",
      "{'parsorbitalis', 'paracentral', 'inferiortemporal', 'lateralorbitofrontal', 'fusiform', 'rostralanteriorcingulate', 'posteriorcingulate', 'parstriangularis', 'superiorfrontal', 'transversetemporal', 'lingual', 'inferiorparietal', 'middletemporal', 'superiortemporal', 'supramarginal', 'cuneus', 'parsopercularis', 'precuneus', 'lateraloccipital', 'caudalmiddlefrontal', 'rostralmiddlefrontal', 'pericalcarine', 'superiorparietal', 'parahippocampal', 'caudalanteriorcingulate', 'precentral', 'insula', 'postcentral', 'isthmuscingulate', 'medialorbitofrontal', 'entorhinal'}\n"
     ]
    }
   ],
   "source": [
    "hemi = 'lh'\n",
    "labels, ctab, names = nib.freesurfer.read_annot(hemi + '.aparc.DKTatlas40.annot')\n",
    "nav_data = np.zeros(labels.shape[0]) - 1\n",
    "sac_data = np.zeros(labels.shape[0]) - 1\n",
    "roi_overlap = set()\n",
    "names = [name.decode(\"utf-8\") for name in names]\n",
    "for roi in names:\n",
    "    if roi in nav_p[hemi]:\n",
    "        roi_overlap.add(roi)\n",
    "        nav_data[labels == names.index(roi)] = nav_p[hemi][roi]\n",
    "    if roi in sac_p[hemi]:\n",
    "        roi_overlap.add(roi)\n",
    "        sac_data[labels == names.index(roi)] = sac_p[hemi][roi]\n",
    "    else:\n",
    "        print(roi)\n",
    "print(roi_overlap)"
   ]
  },
  {
   "cell_type": "code",
   "execution_count": 12,
   "metadata": {},
   "outputs": [],
   "source": [
    "# Show visualization\n",
    "%gui qt\n",
    "\n",
    "brain = Brain('fsaverage', hemi, 'inflated', alpha=1,\n",
    "              background='white', cortex='low_contrast',\n",
    "              views=['lateral'], show_toolbar=True)\n"
   ]
  },
  {
   "cell_type": "code",
   "execution_count": 13,
   "metadata": {},
   "outputs": [],
   "source": [
    "# Add borders\n",
    "class Label(object):\n",
    "    def __init__(self, index):\n",
    "        self.hemi = hemi\n",
    "        self.name = ''\n",
    "        self.vertices = np.where(labels == index)[0]\n",
    "\n",
    "for i in range(len(names)):\n",
    "    brain.add_label(Label(i), borders=1, color='#222222', hemi=hemi, alpha=.5)"
   ]
  },
  {
   "cell_type": "code",
   "execution_count": 14,
   "metadata": {},
   "outputs": [
    {
     "name": "stdout",
     "output_type": "stream",
     "text": [
      "colormap sequential: [0.00e+00, 4.00e-01, 8.00e-01] (opaque)\n",
      "colormap sequential: [0.00e+00, 4.00e-01, 8.00e-01] (opaque)\n"
     ]
    }
   ],
   "source": [
    "p_level = .01\n",
    "nav_data_thr = np.copy(nav_data)\n",
    "sac_data_thr = np.copy(sac_data)\n",
    "nav_roi_thr = np.isin(names, nav_p[hemi][nav_p[hemi] < p_level].index)\n",
    "sac_roi_thr = np.isin(names, sac_p[hemi][sac_p[hemi] < p_level].index)\n",
    "nav_data_thr[~np.isin(labels, np.where(nav_roi_thr))] = -1\n",
    "sac_data_thr[~np.isin(labels, np.where(sac_roi_thr))] = -1\n",
    "brain.add_data(nav_data_thr, min=0, max=0.8, thresh=0, colormap='Reds_r', alpha=.7)\n",
    "brain.add_data(sac_data_thr, min=0, max=0.8, thresh=0, colormap='GnBu_r', alpha=.6)\n"
   ]
  },
  {
   "cell_type": "code",
   "execution_count": 19,
   "metadata": {},
   "outputs": [],
   "source": [
    "brain.remove_data()"
   ]
  }
 ],
 "metadata": {
  "kernelspec": {
   "display_name": "Python 3",
   "language": "python",
   "name": "python3"
  },
  "language_info": {
   "codemirror_mode": {
    "name": "ipython",
    "version": 3
   },
   "file_extension": ".py",
   "mimetype": "text/x-python",
   "name": "python",
   "nbconvert_exporter": "python",
   "pygments_lexer": "ipython3",
   "version": "3.7.1"
  }
 },
 "nbformat": 4,
 "nbformat_minor": 1
}