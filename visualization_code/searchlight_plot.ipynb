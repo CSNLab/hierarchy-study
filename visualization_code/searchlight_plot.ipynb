{
 "cells": [
  {
   "cell_type": "code",
   "execution_count": 1,
   "metadata": {},
   "outputs": [],
   "source": [
    "import os\n",
    "from surfer import Brain, project_volume_data"
   ]
  },
  {
   "cell_type": "code",
   "execution_count": 2,
   "metadata": {},
   "outputs": [
    {
     "name": "stdout",
     "output_type": "stream",
     "text": [
      "mri_vol2surf --mov /Users/mengdu/Repos/hierarchy/brain_visual/nifti/s1a_nav_cls_sl_dil3mm0thr_4vox_10000dil3thr0perm_clusterm.nii.gz --hemi lh --surf white --regheader fsaverage --projfrac-max 0 1 0.1 --o /var/folders/lt/zgd01bld215_y5hjzkb7kw8r0000gn/T/pysurfer-v2sh53g4_ty.mgz\n",
      "mri_vol2surf --mov /Users/mengdu/Repos/hierarchy/brain_visual/nifti/s1b_sac_cls_sl_dil3mm0thr_4vox_10000dil3thr0perm_clusterm.nii.gz --hemi lh --surf white --regheader fsaverage --projfrac-max 0 1 0.1 --o /var/folders/lt/zgd01bld215_y5hjzkb7kw8r0000gn/T/pysurfer-v2s9zubuedj.mgz\n",
      "mri_vol2surf --mov /Users/mengdu/Repos/hierarchy/brain_visual/nifti/s1a_nav_cls_sl_dil3mm0thr_4vox_10000dil3thr0perm_clusterm.nii.gz --hemi rh --surf white --regheader fsaverage --projfrac-max 0 1 0.1 --o /var/folders/lt/zgd01bld215_y5hjzkb7kw8r0000gn/T/pysurfer-v2sc3ufbvs3.mgz\n",
      "mri_vol2surf --mov /Users/mengdu/Repos/hierarchy/brain_visual/nifti/s1b_sac_cls_sl_dil3mm0thr_4vox_10000dil3thr0perm_clusterm.nii.gz --hemi rh --surf white --regheader fsaverage --projfrac-max 0 1 0.1 --o /var/folders/lt/zgd01bld215_y5hjzkb7kw8r0000gn/T/pysurfer-v2smpi7i87m.mgz\n"
     ]
    }
   ],
   "source": [
    "\"\"\"\n",
    "Get a path to the volume files\n",
    "Then project the volume data onto the fs-average template surface\n",
    "\"\"\"\n",
    "\n",
    "files = ['fig6b_nav_sim_sl_tfce.nii.gz', 'fig6b_sac_sim_sl_tfce.nii.gz']\n",
    "data = {}\n",
    "data['lh'] = [project_volume_data(f, 'lh', subject_id='fsaverage', smooth_fwhm=0, projsum='max') for f in files]\n",
    "data['rh'] = [project_volume_data(f, 'rh', subject_id='fsaverage', smooth_fwhm=0, projsum='max') for f in files]\n"
   ]
  },
  {
   "cell_type": "code",
   "execution_count": 3,
   "metadata": {},
   "outputs": [
    {
     "name": "stdout",
     "output_type": "stream",
     "text": [
      "colormap sequential: [0.00e+00, 4.00e-01, 8.00e-01] (opaque)\n",
      "colormap sequential: [0.00e+00, 4.00e-01, 8.00e-01] (opaque)\n"
     ]
    }
   ],
   "source": [
    "%gui qt\n",
    "\"\"\"\n",
    "Bring up the visualization window.\n",
    "\"\"\"\n",
    "hemi = 'lh'\n",
    "brain = Brain('fsaverage', hemi, 'inflated', alpha=1,\n",
    "              background='white', cortex='low_contrast',\n",
    "              views=['medial'], show_toolbar=True)\n",
    "\n",
    "brain.add_data(data[hemi][0], min=0.9, max=1, thresh=0.99, colormap='Reds', alpha=.7)\n",
    "brain.add_data(data[hemi][1], min=0, max=1, thresh=0.99, colormap='GnBu', alpha=.6)\n"
   ]
  }
 ],
 "metadata": {
  "kernelspec": {
   "display_name": "Python 3",
   "language": "python",
   "name": "python3"
  },
  "language_info": {
   "codemirror_mode": {
    "name": "ipython",
    "version": 3
   },
   "file_extension": ".py",
   "mimetype": "text/x-python",
   "name": "python",
   "nbconvert_exporter": "python",
   "pygments_lexer": "ipython3",
   "version": "3.7.1"
  }
 },
 "nbformat": 4,
 "nbformat_minor": 1
}